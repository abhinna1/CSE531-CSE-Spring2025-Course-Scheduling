{
 "cells": [
  {
   "cell_type": "code",
   "execution_count": 108,
   "id": "1ea91b5c-482b-4ee8-b129-999f623442e4",
   "metadata": {},
   "outputs": [],
   "source": [
    "import pandas as pd"
   ]
  },
  {
   "cell_type": "code",
   "execution_count": 109,
   "id": "319b52c7-a24c-4827-bfd4-9e50a14d264b",
   "metadata": {},
   "outputs": [],
   "source": [
    "df = pd.read_csv(\"cse_class_schedule.csv\")"
   ]
  },
  {
   "cell_type": "code",
   "execution_count": 110,
   "id": "787f92fe-b4d1-4f3b-baeb-8edac1df7471",
   "metadata": {},
   "outputs": [],
   "source": [
    "df = df[0:36]"
   ]
  },
  {
   "cell_type": "code",
   "execution_count": 111,
   "id": "b944d139-a121-410d-a2a3-6bf765d2f961",
   "metadata": {},
   "outputs": [
    {
     "data": {
      "text/plain": [
       "36"
      ]
     },
     "execution_count": 111,
     "metadata": {},
     "output_type": "execute_result"
    }
   ],
   "source": [
    "len(df)"
   ]
  },
  {
   "cell_type": "code",
   "execution_count": 112,
   "id": "24509fe6",
   "metadata": {},
   "outputs": [
    {
     "data": {
      "text/plain": [
       "array(['01/22/2025 - 05/06/2025'], dtype=object)"
      ]
     },
     "execution_count": 112,
     "metadata": {},
     "output_type": "execute_result"
    }
   ],
   "source": [
    "df[\"Dates\"].unique()"
   ]
  },
  {
   "cell_type": "code",
   "execution_count": 113,
   "id": "c4910470",
   "metadata": {},
   "outputs": [
    {
     "data": {
      "text/plain": [
       "Index(['Course', 'Section', 'Title', 'Instructor', 'Dates', 'Days', 'Times',\n",
       "       'Room', 'Instruction Mode', 'Enrolled'],\n",
       "      dtype='object')"
      ]
     },
     "execution_count": 113,
     "metadata": {},
     "output_type": "execute_result"
    }
   ],
   "source": [
    "df.columns"
   ]
  },
  {
   "cell_type": "code",
   "execution_count": 114,
   "id": "18654dba",
   "metadata": {},
   "outputs": [
    {
     "data": {
      "text/plain": [
       "array(['TR', 'MWF', 'R', 'MW'], dtype=object)"
      ]
     },
     "execution_count": 114,
     "metadata": {},
     "output_type": "execute_result"
    }
   ],
   "source": [
    "df[\"Days\"].unique()"
   ]
  },
  {
   "cell_type": "code",
   "execution_count": 115,
   "id": "a2ed7a2f",
   "metadata": {},
   "outputs": [
    {
     "data": {
      "text/plain": [
       "23"
      ]
     },
     "execution_count": 115,
     "metadata": {},
     "output_type": "execute_result"
    }
   ],
   "source": [
    "len(df[\"Course\"].unique())"
   ]
  },
  {
   "cell_type": "code",
   "execution_count": 116,
   "id": "87ec599f",
   "metadata": {},
   "outputs": [
    {
     "data": {
      "text/plain": [
       "0      AYY\n",
       "1      ETH\n",
       "2     HIRS\n",
       "3     XION\n",
       "4        A\n",
       "5        A\n",
       "6        B\n",
       "7        A\n",
       "8        A\n",
       "9        B\n",
       "10    JOS2\n",
       "11    JOSE\n",
       "12       A\n",
       "13       A\n",
       "14       A\n",
       "15       A\n",
       "16       A\n",
       "17       A\n",
       "18       B\n",
       "19       C\n",
       "20     000\n",
       "21       A\n",
       "22       A\n",
       "23       A\n",
       "24       A\n",
       "25       B\n",
       "26       A\n",
       "27       B\n",
       "28       C\n",
       "29       A\n",
       "30     000\n",
       "31       A\n",
       "32       C\n",
       "33       D\n",
       "34       A\n",
       "35       A\n",
       "Name: Section, dtype: object"
      ]
     },
     "execution_count": 116,
     "metadata": {},
     "output_type": "execute_result"
    }
   ],
   "source": [
    "df[\"Section\"]"
   ]
  },
  {
   "cell_type": "code",
   "execution_count": 117,
   "id": "4b3fe56c",
   "metadata": {},
   "outputs": [
    {
     "data": {
      "text/plain": [
       "0      12:30PM-1:50PM\n",
       "1       1:00PM-1:50PM\n",
       "2       4:00PM-4:50PM\n",
       "3       1:00PM-3:50PM\n",
       "4       5:00PM-7:50PM\n",
       "5      9:30AM-10:50AM\n",
       "6       2:00PM-3:20PM\n",
       "7       5:00PM-6:20PM\n",
       "8      12:30PM-1:50PM\n",
       "9       2:00PM-3:20PM\n",
       "10    10:00AM-11:20AM\n",
       "11    10:00AM-11:20AM\n",
       "12      2:00PM-3:20PM\n",
       "13      2:00PM-3:20PM\n",
       "14    11:00AM-11:50AM\n",
       "15     12:30PM-1:50PM\n",
       "16     12:30PM-1:50PM\n",
       "17     9:30AM-10:50AM\n",
       "18    11:00AM-11:50AM\n",
       "19    10:00AM-10:50AM\n",
       "20      3:30PM-4:50PM\n",
       "21     9:30AM-10:50AM\n",
       "22    11:00AM-11:50AM\n",
       "23      2:00PM-3:20PM\n",
       "24     9:30AM-10:50AM\n",
       "25      5:00PM-6:20PM\n",
       "26     12:30PM-1:50PM\n",
       "27      3:30PM-4:50PM\n",
       "28      5:00PM-6:20PM\n",
       "29    11:00AM-12:20PM\n",
       "30    11:00AM-11:50AM\n",
       "31    12:00PM-12:50PM\n",
       "32      2:00PM-2:50PM\n",
       "33      3:00PM-3:50PM\n",
       "34      5:00PM-6:20PM\n",
       "35      2:00PM-2:50PM\n",
       "Name: Times, dtype: object"
      ]
     },
     "execution_count": 117,
     "metadata": {},
     "output_type": "execute_result"
    }
   ],
   "source": [
    "df[\"Times\"]"
   ]
  },
  {
   "cell_type": "code",
   "execution_count": null,
   "id": "46aa0a43",
   "metadata": {},
   "outputs": [],
   "source": [
    "\"\"\"Create start and end time columns.\"\"\"\n",
    "df[['Start Time', 'End Time']] = df['Times'].str.split('-', expand=True)\n",
    "df['Start Time'] = pd.to_datetime(df['Start Time'], format=\"%I:%M%p\")\n",
    "df['End Time'] = pd.to_datetime(df['End Time'], format=\"%I:%M%p\")"
   ]
  },
  {
   "cell_type": "code",
   "execution_count": 124,
   "id": "ca619f9d",
   "metadata": {},
   "outputs": [],
   "source": [
    "df[\"Start Time\"] = df[\"Start Time\"].dt.strftime('%H:%M:%S')\n",
    "df[\"End Time\"] = df[\"End Time\"].dt.strftime('%H:%M:%S')\n"
   ]
  },
  {
   "cell_type": "code",
   "execution_count": null,
   "id": "1f359e44",
   "metadata": {},
   "outputs": [],
   "source": [
    "def get_schedule(dataframe: pd.DataFrame) -> pd.DataFrame:\n",
    "    \"\"\"\n",
    "    # Constraints\n",
    "    -  Course Days\n",
    "    -  Course Timing\n",
    "    -  Course Section has to be unique\n",
    "\n",
    "    # Algorithm\n",
    "    -  Select the course with the earliest end time.\n",
    "    -  Remove all other courses with\n",
    "        course day == day of selected &\n",
    "        start times < finish time \n",
    "        of the selected course.\n",
    "    -  Remove all courses with Course == selected course.\n",
    "    \"\"\"\n",
    "    schedule = []\n",
    "\n",
    "    dataframe = dataframe.sort_values(by='End Time')\n",
    "\n",
    "    while len(dataframe) > 0:\n",
    "        earliest_course = dataframe.iloc[0]\n",
    "        schedule.append(earliest_course)\n",
    "        dataframe = (\n",
    "            dataframe[\n",
    "                dataframe[\"Start Time\"]> earliest_course[\"End Time\"]\n",
    "            ]\n",
    "        )\n",
    "        dataframe = (\n",
    "            dataframe[\n",
    "                dataframe[\"Course\"] != earliest_course[\"Course\"]\n",
    "            ]\n",
    "        )\n",
    "\n",
    "    return pd.DataFrame(schedule)\n"
   ]
  },
  {
   "cell_type": "code",
   "execution_count": 210,
   "id": "a41f41d8",
   "metadata": {},
   "outputs": [
    {
     "data": {
      "text/html": [
       "<div>\n",
       "<style scoped>\n",
       "    .dataframe tbody tr th:only-of-type {\n",
       "        vertical-align: middle;\n",
       "    }\n",
       "\n",
       "    .dataframe tbody tr th {\n",
       "        vertical-align: top;\n",
       "    }\n",
       "\n",
       "    .dataframe thead th {\n",
       "        text-align: right;\n",
       "    }\n",
       "</style>\n",
       "<table border=\"1\" class=\"dataframe\">\n",
       "  <thead>\n",
       "    <tr style=\"text-align: right;\">\n",
       "      <th></th>\n",
       "      <th>Course</th>\n",
       "      <th>Section</th>\n",
       "      <th>Title</th>\n",
       "      <th>Instructor</th>\n",
       "      <th>Dates</th>\n",
       "      <th>Days</th>\n",
       "      <th>Times</th>\n",
       "      <th>Room</th>\n",
       "      <th>Instruction Mode</th>\n",
       "      <th>Enrolled</th>\n",
       "      <th>Start Time</th>\n",
       "      <th>End Time</th>\n",
       "    </tr>\n",
       "  </thead>\n",
       "  <tbody>\n",
       "    <tr>\n",
       "      <th>24</th>\n",
       "      <td>CSE 573</td>\n",
       "      <td>A</td>\n",
       "      <td>Introduction to Computer Vision and Image Proc...</td>\n",
       "      <td>Junsong Yuan</td>\n",
       "      <td>01/22/2025 - 05/06/2025</td>\n",
       "      <td>TR</td>\n",
       "      <td>9:30AM-10:50AM</td>\n",
       "      <td>Clemen 322</td>\n",
       "      <td>In person</td>\n",
       "      <td>16/53</td>\n",
       "      <td>09:30:00</td>\n",
       "      <td>10:50:00</td>\n",
       "    </tr>\n",
       "    <tr>\n",
       "      <th>29</th>\n",
       "      <td>CSE 578</td>\n",
       "      <td>A</td>\n",
       "      <td>Computational Investment</td>\n",
       "      <td>Zhen Liu</td>\n",
       "      <td>01/22/2025 - 05/06/2025</td>\n",
       "      <td>TR</td>\n",
       "      <td>11:00AM-12:20PM</td>\n",
       "      <td>Cooke 127A</td>\n",
       "      <td>In person</td>\n",
       "      <td>18/20</td>\n",
       "      <td>11:00:00</td>\n",
       "      <td>12:20:00</td>\n",
       "    </tr>\n",
       "    <tr>\n",
       "      <th>0</th>\n",
       "      <td>CSE 510</td>\n",
       "      <td>AYY</td>\n",
       "      <td>Special Topic: Algorithms for Mobile Computing...</td>\n",
       "      <td>Sai Roshan Ayyalasomayajula</td>\n",
       "      <td>01/22/2025 - 05/06/2025</td>\n",
       "      <td>TR</td>\n",
       "      <td>12:30PM-1:50PM</td>\n",
       "      <td>Frnczk 408</td>\n",
       "      <td>In person</td>\n",
       "      <td>2/33</td>\n",
       "      <td>12:30:00</td>\n",
       "      <td>13:50:00</td>\n",
       "    </tr>\n",
       "    <tr>\n",
       "      <th>13</th>\n",
       "      <td>CSE 546</td>\n",
       "      <td>A</td>\n",
       "      <td>Reinforcement Learning</td>\n",
       "      <td>Alina Vereshchaka</td>\n",
       "      <td>01/22/2025 - 05/06/2025</td>\n",
       "      <td>TR</td>\n",
       "      <td>2:00PM-3:20PM</td>\n",
       "      <td>Knox 104</td>\n",
       "      <td>In person</td>\n",
       "      <td>130/205</td>\n",
       "      <td>14:00:00</td>\n",
       "      <td>15:20:00</td>\n",
       "    </tr>\n",
       "    <tr>\n",
       "      <th>20</th>\n",
       "      <td>CSE 562</td>\n",
       "      <td>000</td>\n",
       "      <td>Database Systems</td>\n",
       "      <td>Adekunle Afolabi</td>\n",
       "      <td>01/22/2025 - 05/06/2025</td>\n",
       "      <td>TR</td>\n",
       "      <td>3:30PM-4:50PM</td>\n",
       "      <td>Cooke 121</td>\n",
       "      <td>In person</td>\n",
       "      <td>38/103</td>\n",
       "      <td>15:30:00</td>\n",
       "      <td>16:50:00</td>\n",
       "    </tr>\n",
       "    <tr>\n",
       "      <th>7</th>\n",
       "      <td>CSE 526</td>\n",
       "      <td>A</td>\n",
       "      <td>Blockchain Application Development</td>\n",
       "      <td>Bina Ramamurthy</td>\n",
       "      <td>01/22/2025 - 05/06/2025</td>\n",
       "      <td>TR</td>\n",
       "      <td>5:00PM-6:20PM</td>\n",
       "      <td>Hoch 114</td>\n",
       "      <td>In person</td>\n",
       "      <td>10/70</td>\n",
       "      <td>17:00:00</td>\n",
       "      <td>18:20:00</td>\n",
       "    </tr>\n",
       "  </tbody>\n",
       "</table>\n",
       "</div>"
      ],
      "text/plain": [
       "     Course Section                                              Title  \\\n",
       "24  CSE 573       A  Introduction to Computer Vision and Image Proc...   \n",
       "29  CSE 578       A                           Computational Investment   \n",
       "0   CSE 510     AYY  Special Topic: Algorithms for Mobile Computing...   \n",
       "13  CSE 546       A                             Reinforcement Learning   \n",
       "20  CSE 562     000                                   Database Systems   \n",
       "7   CSE 526       A                 Blockchain Application Development   \n",
       "\n",
       "                     Instructor                    Dates Days  \\\n",
       "24                 Junsong Yuan  01/22/2025 - 05/06/2025   TR   \n",
       "29                     Zhen Liu  01/22/2025 - 05/06/2025   TR   \n",
       "0   Sai Roshan Ayyalasomayajula  01/22/2025 - 05/06/2025   TR   \n",
       "13            Alina Vereshchaka  01/22/2025 - 05/06/2025   TR   \n",
       "20             Adekunle Afolabi  01/22/2025 - 05/06/2025   TR   \n",
       "7               Bina Ramamurthy  01/22/2025 - 05/06/2025   TR   \n",
       "\n",
       "              Times        Room Instruction Mode Enrolled Start Time  End Time  \n",
       "24   9:30AM-10:50AM  Clemen 322        In person    16/53   09:30:00  10:50:00  \n",
       "29  11:00AM-12:20PM  Cooke 127A        In person    18/20   11:00:00  12:20:00  \n",
       "0    12:30PM-1:50PM  Frnczk 408        In person     2/33   12:30:00  13:50:00  \n",
       "13    2:00PM-3:20PM    Knox 104        In person  130/205   14:00:00  15:20:00  \n",
       "20    3:30PM-4:50PM   Cooke 121        In person   38/103   15:30:00  16:50:00  \n",
       "7     5:00PM-6:20PM    Hoch 114        In person    10/70   17:00:00  18:20:00  "
      ]
     },
     "execution_count": 210,
     "metadata": {},
     "output_type": "execute_result"
    }
   ],
   "source": [
    "# Unique days: ['TR', 'MWF', 'R', 'MW']\n",
    "TR_R = df[df['Days'].isin(['TR', 'R'])]\n",
    "\n",
    "TR_R_schedule = get_schedule(TR_R)\n",
    "\n",
    "TR_R_schedule\n"
   ]
  },
  {
   "cell_type": "code",
   "execution_count": 211,
   "id": "47f4e252",
   "metadata": {},
   "outputs": [
    {
     "data": {
      "text/html": [
       "<div>\n",
       "<style scoped>\n",
       "    .dataframe tbody tr th:only-of-type {\n",
       "        vertical-align: middle;\n",
       "    }\n",
       "\n",
       "    .dataframe tbody tr th {\n",
       "        vertical-align: top;\n",
       "    }\n",
       "\n",
       "    .dataframe thead th {\n",
       "        text-align: right;\n",
       "    }\n",
       "</style>\n",
       "<table border=\"1\" class=\"dataframe\">\n",
       "  <thead>\n",
       "    <tr style=\"text-align: right;\">\n",
       "      <th></th>\n",
       "      <th>Course</th>\n",
       "      <th>Section</th>\n",
       "      <th>Title</th>\n",
       "      <th>Instructor</th>\n",
       "      <th>Dates</th>\n",
       "      <th>Days</th>\n",
       "      <th>Times</th>\n",
       "      <th>Room</th>\n",
       "      <th>Instruction Mode</th>\n",
       "      <th>Enrolled</th>\n",
       "      <th>Start Time</th>\n",
       "      <th>End Time</th>\n",
       "    </tr>\n",
       "  </thead>\n",
       "  <tbody>\n",
       "    <tr>\n",
       "      <th>19</th>\n",
       "      <td>CSE 560</td>\n",
       "      <td>C</td>\n",
       "      <td>Data Models and Query Languages</td>\n",
       "      <td>Shamsad Parvin</td>\n",
       "      <td>01/22/2025 - 05/06/2025</td>\n",
       "      <td>MWF</td>\n",
       "      <td>10:00AM-10:50AM</td>\n",
       "      <td>Knox 104</td>\n",
       "      <td>In person</td>\n",
       "      <td>167/180</td>\n",
       "      <td>10:00:00</td>\n",
       "      <td>10:50:00</td>\n",
       "    </tr>\n",
       "    <tr>\n",
       "      <th>14</th>\n",
       "      <td>CSE 547</td>\n",
       "      <td>A</td>\n",
       "      <td>High Performance Computing 1</td>\n",
       "      <td>Matthew Knepley</td>\n",
       "      <td>01/22/2025 - 05/06/2025</td>\n",
       "      <td>MWF</td>\n",
       "      <td>11:00AM-11:50AM</td>\n",
       "      <td>Norton 210</td>\n",
       "      <td>In person</td>\n",
       "      <td>4/4</td>\n",
       "      <td>11:00:00</td>\n",
       "      <td>11:50:00</td>\n",
       "    </tr>\n",
       "    <tr>\n",
       "      <th>31</th>\n",
       "      <td>CSE 587</td>\n",
       "      <td>A</td>\n",
       "      <td>Data Intensive Computing</td>\n",
       "      <td>Shamsad Parvin</td>\n",
       "      <td>01/22/2025 - 05/06/2025</td>\n",
       "      <td>MWF</td>\n",
       "      <td>12:00PM-12:50PM</td>\n",
       "      <td>Knox 104</td>\n",
       "      <td>In person</td>\n",
       "      <td>69/170</td>\n",
       "      <td>12:00:00</td>\n",
       "      <td>12:50:00</td>\n",
       "    </tr>\n",
       "    <tr>\n",
       "      <th>1</th>\n",
       "      <td>CSE 510</td>\n",
       "      <td>ETH</td>\n",
       "      <td>Special Topic: Interactive Programming Environ...</td>\n",
       "      <td>Ethan Blanton</td>\n",
       "      <td>01/22/2025 - 05/06/2025</td>\n",
       "      <td>MWF</td>\n",
       "      <td>1:00PM-1:50PM</td>\n",
       "      <td>Norton 209</td>\n",
       "      <td>In person</td>\n",
       "      <td>10/12</td>\n",
       "      <td>13:00:00</td>\n",
       "      <td>13:50:00</td>\n",
       "    </tr>\n",
       "    <tr>\n",
       "      <th>35</th>\n",
       "      <td>CSE 590</td>\n",
       "      <td>A</td>\n",
       "      <td>Computer Architecture</td>\n",
       "      <td>Ramalingam Sridhar</td>\n",
       "      <td>01/22/2025 - 05/06/2025</td>\n",
       "      <td>MWF</td>\n",
       "      <td>2:00PM-2:50PM</td>\n",
       "      <td>Knox 110</td>\n",
       "      <td>In person</td>\n",
       "      <td>132/141</td>\n",
       "      <td>14:00:00</td>\n",
       "      <td>14:50:00</td>\n",
       "    </tr>\n",
       "  </tbody>\n",
       "</table>\n",
       "</div>"
      ],
      "text/plain": [
       "     Course Section                                              Title  \\\n",
       "19  CSE 560       C                    Data Models and Query Languages   \n",
       "14  CSE 547       A                       High Performance Computing 1   \n",
       "31  CSE 587       A                           Data Intensive Computing   \n",
       "1   CSE 510     ETH  Special Topic: Interactive Programming Environ...   \n",
       "35  CSE 590       A                              Computer Architecture   \n",
       "\n",
       "            Instructor                    Dates Days            Times  \\\n",
       "19      Shamsad Parvin  01/22/2025 - 05/06/2025  MWF  10:00AM-10:50AM   \n",
       "14     Matthew Knepley  01/22/2025 - 05/06/2025  MWF  11:00AM-11:50AM   \n",
       "31      Shamsad Parvin  01/22/2025 - 05/06/2025  MWF  12:00PM-12:50PM   \n",
       "1        Ethan Blanton  01/22/2025 - 05/06/2025  MWF    1:00PM-1:50PM   \n",
       "35  Ramalingam Sridhar  01/22/2025 - 05/06/2025  MWF    2:00PM-2:50PM   \n",
       "\n",
       "          Room Instruction Mode Enrolled Start Time  End Time  \n",
       "19    Knox 104        In person  167/180   10:00:00  10:50:00  \n",
       "14  Norton 210        In person      4/4   11:00:00  11:50:00  \n",
       "31    Knox 104        In person   69/170   12:00:00  12:50:00  \n",
       "1   Norton 209        In person    10/12   13:00:00  13:50:00  \n",
       "35    Knox 110        In person  132/141   14:00:00  14:50:00  "
      ]
     },
     "execution_count": 211,
     "metadata": {},
     "output_type": "execute_result"
    }
   ],
   "source": [
    "MW_F = df[df['Days'].isin(['MWF', 'MW'])]\n",
    "MW_F_schedule = get_schedule(MW_F)\n",
    "\n",
    "MW_F_schedule"
   ]
  },
  {
   "cell_type": "code",
   "execution_count": 212,
   "id": "bf0746c4",
   "metadata": {},
   "outputs": [],
   "source": [
    "combined_schedule = pd.concat([TR_R_schedule, MW_F_schedule])"
   ]
  },
  {
   "cell_type": "code",
   "execution_count": 215,
   "id": "10c2aa59",
   "metadata": {},
   "outputs": [
    {
     "data": {
      "text/plain": [
       "11"
      ]
     },
     "execution_count": 215,
     "metadata": {},
     "output_type": "execute_result"
    }
   ],
   "source": [
    "len(combined_schedule)"
   ]
  },
  {
   "cell_type": "code",
   "execution_count": null,
   "id": "bf1b9513",
   "metadata": {},
   "outputs": [],
   "source": [
    "combined_schedule.to_csv(\"generated_schedule.csv\")"
   ]
  }
 ],
 "metadata": {
  "kernelspec": {
   "display_name": "venv",
   "language": "python",
   "name": "python3"
  },
  "language_info": {
   "codemirror_mode": {
    "name": "ipython",
    "version": 3
   },
   "file_extension": ".py",
   "mimetype": "text/x-python",
   "name": "python",
   "nbconvert_exporter": "python",
   "pygments_lexer": "ipython3",
   "version": "3.12.5"
  }
 },
 "nbformat": 4,
 "nbformat_minor": 5
}
